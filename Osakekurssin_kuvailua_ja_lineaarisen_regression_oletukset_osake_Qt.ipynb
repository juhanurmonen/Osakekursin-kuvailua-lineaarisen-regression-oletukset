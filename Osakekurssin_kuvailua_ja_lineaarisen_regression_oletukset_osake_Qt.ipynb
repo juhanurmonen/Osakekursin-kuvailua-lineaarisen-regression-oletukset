{
  "nbformat": 4,
  "nbformat_minor": 0,
  "metadata": {
    "colab": {
      "name": "Osakekurssin_kuvailua_ja_lineaarisen_regression_oletukset_osake_Qt.ipynb",
      "provenance": [],
      "collapsed_sections": []
    },
    "kernelspec": {
      "name": "python3",
      "display_name": "Python 3"
    }
  },
  "cells": [
    {
      "cell_type": "markdown",
      "metadata": {
        "id": "k35tq-FUT5sv"
      },
      "source": [
        ""
      ]
    },
    {
      "cell_type": "markdown",
      "metadata": {
        "id": "sArlnZ21GCHV"
      },
      "source": [
        "## Kuvaillaan tunnusluvuin ja graafisesti Qt:n osakekurssia viime vuosina\n",
        "\n",
        "## Testataan joitain lineaarisen regression oletuksia Qt:n osakekurssiin"
      ]
    },
    {
      "cell_type": "markdown",
      "metadata": {
        "id": "K5tZXl5bKg-E"
      },
      "source": [
        "Haetaan Yahoo Finance -palvelusta indeksin HEX25 kurssihistoria vuoden 2018 alusta alkaen ja osakkeen Qt kurssihistoria samalta ajalta.\n"
      ]
    },
    {
      "cell_type": "code",
      "metadata": {
        "id": "rzZoQlhfulvB"
      },
      "source": [
        "### Tuodaan kirjastot\n",
        "import pandas as pd\n",
        "import pandas_datareader.data as web"
      ],
      "execution_count": 1,
      "outputs": []
    },
    {
      "cell_type": "code",
      "metadata": {
        "id": "4TDbnrPUNYUU"
      },
      "source": [
        "### Avataan tiedostot\n",
        "markkinat = web.DataReader('^OMXH25', start = '2018-1-1', data_source = 'yahoo')\n",
        "osake = web.DataReader('QTCOM.HE', start = '2018-1-1', data_source = 'yahoo')"
      ],
      "execution_count": 2,
      "outputs": []
    },
    {
      "cell_type": "code",
      "metadata": {
        "colab": {
          "base_uri": "https://localhost:8080/",
          "height": 450
        },
        "id": "Z1Pg2MZvOZ_k",
        "outputId": "07e787ea-4ce0-4301-fa90-6f60d8b86d2e"
      },
      "source": [
        "markkinat"
      ],
      "execution_count": 3,
      "outputs": [
        {
          "output_type": "execute_result",
          "data": {
            "text/html": [
              "<div>\n",
              "<style scoped>\n",
              "    .dataframe tbody tr th:only-of-type {\n",
              "        vertical-align: middle;\n",
              "    }\n",
              "\n",
              "    .dataframe tbody tr th {\n",
              "        vertical-align: top;\n",
              "    }\n",
              "\n",
              "    .dataframe thead th {\n",
              "        text-align: right;\n",
              "    }\n",
              "</style>\n",
              "<table border=\"1\" class=\"dataframe\">\n",
              "  <thead>\n",
              "    <tr style=\"text-align: right;\">\n",
              "      <th></th>\n",
              "      <th>High</th>\n",
              "      <th>Low</th>\n",
              "      <th>Open</th>\n",
              "      <th>Close</th>\n",
              "      <th>Volume</th>\n",
              "      <th>Adj Close</th>\n",
              "    </tr>\n",
              "    <tr>\n",
              "      <th>Date</th>\n",
              "      <th></th>\n",
              "      <th></th>\n",
              "      <th></th>\n",
              "      <th></th>\n",
              "      <th></th>\n",
              "      <th></th>\n",
              "    </tr>\n",
              "  </thead>\n",
              "  <tbody>\n",
              "    <tr>\n",
              "      <th>2018-01-02</th>\n",
              "      <td>3932.649902</td>\n",
              "      <td>3905.439941</td>\n",
              "      <td>3919.610107</td>\n",
              "      <td>3930.169922</td>\n",
              "      <td>0.0</td>\n",
              "      <td>3930.169922</td>\n",
              "    </tr>\n",
              "    <tr>\n",
              "      <th>2018-01-03</th>\n",
              "      <td>3970.540039</td>\n",
              "      <td>3931.169922</td>\n",
              "      <td>3931.169922</td>\n",
              "      <td>3963.760010</td>\n",
              "      <td>0.0</td>\n",
              "      <td>3963.760010</td>\n",
              "    </tr>\n",
              "    <tr>\n",
              "      <th>2018-01-04</th>\n",
              "      <td>4002.389893</td>\n",
              "      <td>3967.239990</td>\n",
              "      <td>3967.239990</td>\n",
              "      <td>3994.840088</td>\n",
              "      <td>0.0</td>\n",
              "      <td>3994.840088</td>\n",
              "    </tr>\n",
              "    <tr>\n",
              "      <th>2018-01-05</th>\n",
              "      <td>4018.459961</td>\n",
              "      <td>3991.110107</td>\n",
              "      <td>3992.520020</td>\n",
              "      <td>4018.409912</td>\n",
              "      <td>0.0</td>\n",
              "      <td>4018.409912</td>\n",
              "    </tr>\n",
              "    <tr>\n",
              "      <th>2018-01-08</th>\n",
              "      <td>4040.300049</td>\n",
              "      <td>4018.840088</td>\n",
              "      <td>4018.840088</td>\n",
              "      <td>4030.280029</td>\n",
              "      <td>0.0</td>\n",
              "      <td>4030.280029</td>\n",
              "    </tr>\n",
              "    <tr>\n",
              "      <th>...</th>\n",
              "      <td>...</td>\n",
              "      <td>...</td>\n",
              "      <td>...</td>\n",
              "      <td>...</td>\n",
              "      <td>...</td>\n",
              "      <td>...</td>\n",
              "    </tr>\n",
              "    <tr>\n",
              "      <th>2021-04-12</th>\n",
              "      <td>5036.060059</td>\n",
              "      <td>4983.859863</td>\n",
              "      <td>5024.120117</td>\n",
              "      <td>4985.689941</td>\n",
              "      <td>0.0</td>\n",
              "      <td>4985.689941</td>\n",
              "    </tr>\n",
              "    <tr>\n",
              "      <th>2021-04-13</th>\n",
              "      <td>5022.529785</td>\n",
              "      <td>4989.229980</td>\n",
              "      <td>4989.229980</td>\n",
              "      <td>5010.060059</td>\n",
              "      <td>0.0</td>\n",
              "      <td>5010.060059</td>\n",
              "    </tr>\n",
              "    <tr>\n",
              "      <th>2021-04-14</th>\n",
              "      <td>5018.060059</td>\n",
              "      <td>4986.270020</td>\n",
              "      <td>5017.200195</td>\n",
              "      <td>5003.870117</td>\n",
              "      <td>0.0</td>\n",
              "      <td>5003.870117</td>\n",
              "    </tr>\n",
              "    <tr>\n",
              "      <th>2021-04-15</th>\n",
              "      <td>5050.640137</td>\n",
              "      <td>5013.810059</td>\n",
              "      <td>5014.939941</td>\n",
              "      <td>5037.140137</td>\n",
              "      <td>0.0</td>\n",
              "      <td>5037.140137</td>\n",
              "    </tr>\n",
              "    <tr>\n",
              "      <th>2021-04-16</th>\n",
              "      <td>5120.580078</td>\n",
              "      <td>5063.549805</td>\n",
              "      <td>5065.399902</td>\n",
              "      <td>5117.290039</td>\n",
              "      <td>0.0</td>\n",
              "      <td>5117.290039</td>\n",
              "    </tr>\n",
              "  </tbody>\n",
              "</table>\n",
              "<p>819 rows × 6 columns</p>\n",
              "</div>"
            ],
            "text/plain": [
              "                   High          Low  ...  Volume    Adj Close\n",
              "Date                                  ...                     \n",
              "2018-01-02  3932.649902  3905.439941  ...     0.0  3930.169922\n",
              "2018-01-03  3970.540039  3931.169922  ...     0.0  3963.760010\n",
              "2018-01-04  4002.389893  3967.239990  ...     0.0  3994.840088\n",
              "2018-01-05  4018.459961  3991.110107  ...     0.0  4018.409912\n",
              "2018-01-08  4040.300049  4018.840088  ...     0.0  4030.280029\n",
              "...                 ...          ...  ...     ...          ...\n",
              "2021-04-12  5036.060059  4983.859863  ...     0.0  4985.689941\n",
              "2021-04-13  5022.529785  4989.229980  ...     0.0  5010.060059\n",
              "2021-04-14  5018.060059  4986.270020  ...     0.0  5003.870117\n",
              "2021-04-15  5050.640137  5013.810059  ...     0.0  5037.140137\n",
              "2021-04-16  5120.580078  5063.549805  ...     0.0  5117.290039\n",
              "\n",
              "[819 rows x 6 columns]"
            ]
          },
          "metadata": {
            "tags": []
          },
          "execution_count": 3
        }
      ]
    },
    {
      "cell_type": "code",
      "metadata": {
        "colab": {
          "base_uri": "https://localhost:8080/",
          "height": 450
        },
        "id": "rNjC0tcgOeJ8",
        "outputId": "69d3b781-9d51-4c68-a04a-4e8da2e05ab7"
      },
      "source": [
        "osake"
      ],
      "execution_count": 4,
      "outputs": [
        {
          "output_type": "execute_result",
          "data": {
            "text/html": [
              "<div>\n",
              "<style scoped>\n",
              "    .dataframe tbody tr th:only-of-type {\n",
              "        vertical-align: middle;\n",
              "    }\n",
              "\n",
              "    .dataframe tbody tr th {\n",
              "        vertical-align: top;\n",
              "    }\n",
              "\n",
              "    .dataframe thead th {\n",
              "        text-align: right;\n",
              "    }\n",
              "</style>\n",
              "<table border=\"1\" class=\"dataframe\">\n",
              "  <thead>\n",
              "    <tr style=\"text-align: right;\">\n",
              "      <th></th>\n",
              "      <th>High</th>\n",
              "      <th>Low</th>\n",
              "      <th>Open</th>\n",
              "      <th>Close</th>\n",
              "      <th>Volume</th>\n",
              "      <th>Adj Close</th>\n",
              "    </tr>\n",
              "    <tr>\n",
              "      <th>Date</th>\n",
              "      <th></th>\n",
              "      <th></th>\n",
              "      <th></th>\n",
              "      <th></th>\n",
              "      <th></th>\n",
              "      <th></th>\n",
              "    </tr>\n",
              "  </thead>\n",
              "  <tbody>\n",
              "    <tr>\n",
              "      <th>2018-01-02</th>\n",
              "      <td>5.320000</td>\n",
              "      <td>5.200000</td>\n",
              "      <td>5.200000</td>\n",
              "      <td>5.260000</td>\n",
              "      <td>4575</td>\n",
              "      <td>5.260000</td>\n",
              "    </tr>\n",
              "    <tr>\n",
              "      <th>2018-01-03</th>\n",
              "      <td>5.540000</td>\n",
              "      <td>5.000000</td>\n",
              "      <td>5.000000</td>\n",
              "      <td>5.440000</td>\n",
              "      <td>793236</td>\n",
              "      <td>5.440000</td>\n",
              "    </tr>\n",
              "    <tr>\n",
              "      <th>2018-01-04</th>\n",
              "      <td>6.500000</td>\n",
              "      <td>5.440000</td>\n",
              "      <td>5.440000</td>\n",
              "      <td>6.000000</td>\n",
              "      <td>19717</td>\n",
              "      <td>6.000000</td>\n",
              "    </tr>\n",
              "    <tr>\n",
              "      <th>2018-01-05</th>\n",
              "      <td>6.000000</td>\n",
              "      <td>5.700000</td>\n",
              "      <td>6.000000</td>\n",
              "      <td>5.780000</td>\n",
              "      <td>5228</td>\n",
              "      <td>5.780000</td>\n",
              "    </tr>\n",
              "    <tr>\n",
              "      <th>2018-01-08</th>\n",
              "      <td>5.960000</td>\n",
              "      <td>5.400000</td>\n",
              "      <td>5.800000</td>\n",
              "      <td>5.640000</td>\n",
              "      <td>16906</td>\n",
              "      <td>5.640000</td>\n",
              "    </tr>\n",
              "    <tr>\n",
              "      <th>...</th>\n",
              "      <td>...</td>\n",
              "      <td>...</td>\n",
              "      <td>...</td>\n",
              "      <td>...</td>\n",
              "      <td>...</td>\n",
              "      <td>...</td>\n",
              "    </tr>\n",
              "    <tr>\n",
              "      <th>2021-04-12</th>\n",
              "      <td>98.599998</td>\n",
              "      <td>95.699997</td>\n",
              "      <td>98.599998</td>\n",
              "      <td>98.199997</td>\n",
              "      <td>92678</td>\n",
              "      <td>98.199997</td>\n",
              "    </tr>\n",
              "    <tr>\n",
              "      <th>2021-04-13</th>\n",
              "      <td>104.400002</td>\n",
              "      <td>98.199997</td>\n",
              "      <td>98.400002</td>\n",
              "      <td>102.199997</td>\n",
              "      <td>119237</td>\n",
              "      <td>102.199997</td>\n",
              "    </tr>\n",
              "    <tr>\n",
              "      <th>2021-04-14</th>\n",
              "      <td>104.199997</td>\n",
              "      <td>100.199997</td>\n",
              "      <td>104.000000</td>\n",
              "      <td>102.000000</td>\n",
              "      <td>79679</td>\n",
              "      <td>102.000000</td>\n",
              "    </tr>\n",
              "    <tr>\n",
              "      <th>2021-04-15</th>\n",
              "      <td>104.000000</td>\n",
              "      <td>101.599998</td>\n",
              "      <td>102.800003</td>\n",
              "      <td>103.000000</td>\n",
              "      <td>55804</td>\n",
              "      <td>103.000000</td>\n",
              "    </tr>\n",
              "    <tr>\n",
              "      <th>2021-04-16</th>\n",
              "      <td>104.199997</td>\n",
              "      <td>102.000000</td>\n",
              "      <td>103.000000</td>\n",
              "      <td>103.800003</td>\n",
              "      <td>45766</td>\n",
              "      <td>103.800003</td>\n",
              "    </tr>\n",
              "  </tbody>\n",
              "</table>\n",
              "<p>824 rows × 6 columns</p>\n",
              "</div>"
            ],
            "text/plain": [
              "                  High         Low        Open       Close  Volume   Adj Close\n",
              "Date                                                                          \n",
              "2018-01-02    5.320000    5.200000    5.200000    5.260000    4575    5.260000\n",
              "2018-01-03    5.540000    5.000000    5.000000    5.440000  793236    5.440000\n",
              "2018-01-04    6.500000    5.440000    5.440000    6.000000   19717    6.000000\n",
              "2018-01-05    6.000000    5.700000    6.000000    5.780000    5228    5.780000\n",
              "2018-01-08    5.960000    5.400000    5.800000    5.640000   16906    5.640000\n",
              "...                ...         ...         ...         ...     ...         ...\n",
              "2021-04-12   98.599998   95.699997   98.599998   98.199997   92678   98.199997\n",
              "2021-04-13  104.400002   98.199997   98.400002  102.199997  119237  102.199997\n",
              "2021-04-14  104.199997  100.199997  104.000000  102.000000   79679  102.000000\n",
              "2021-04-15  104.000000  101.599998  102.800003  103.000000   55804  103.000000\n",
              "2021-04-16  104.199997  102.000000  103.000000  103.800003   45766  103.800003\n",
              "\n",
              "[824 rows x 6 columns]"
            ]
          },
          "metadata": {
            "tags": []
          },
          "execution_count": 4
        }
      ]
    },
    {
      "cell_type": "code",
      "metadata": {
        "colab": {
          "base_uri": "https://localhost:8080/",
          "height": 310
        },
        "id": "H0n3q-yzOf99",
        "outputId": "763aa0e0-a55e-46f9-a8e0-da5157ae55bf"
      },
      "source": [
        "#### Tehdään kuvio markkinoista\n",
        "markkinat['Close'].plot(title = \"Markkinoiden kehitys\", xlabel = \"Ajankohta\", ylabel = \"Indeksin pisteluku\")"
      ],
      "execution_count": 5,
      "outputs": [
        {
          "output_type": "execute_result",
          "data": {
            "text/plain": [
              "<matplotlib.axes._subplots.AxesSubplot at 0x7f9885a9c090>"
            ]
          },
          "metadata": {
            "tags": []
          },
          "execution_count": 5
        },
        {
          "output_type": "display_data",
          "data": {
            "image/png": "[encoded data removed]",
            "text/plain": [
              "<Figure size 432x288 with 1 Axes>"
            ]
          },
          "metadata": {
            "tags": [],
            "needs_background": "light"
          }
        }
      ]
    },
    {
      "cell_type": "code",
      "metadata": {
        "colab": {
          "base_uri": "https://localhost:8080/",
          "height": 310
        },
        "id": "Uk3WffNPtTAb",
        "outputId": "417ac022-b4a7-4622-9526-a80d129c36f6"
      },
      "source": [
        "#### Tehdään kuvio vuoden 2020 alusta alkaen\n",
        "markkinat['Close']['2020-01-01':].plot(title = \"Markkinoiden kehitys vuodesta 2020 alkaen\", xlabel = \"Ajankohta\", ylabel = \"Indeksin pisteluku\")"
      ],
      "execution_count": 6,
      "outputs": [
        {
          "output_type": "execute_result",
          "data": {
            "text/plain": [
              "<matplotlib.axes._subplots.AxesSubplot at 0x7f9885ee6250>"
            ]
          },
          "metadata": {
            "tags": []
          },
          "execution_count": 6
        },
        {
          "output_type": "display_data",
          "data": {
            "image/png": "[encoded data removed]",
            "text/plain": [
              "<Figure size 432x288 with 1 Axes>"
            ]
          },
          "metadata": {
            "tags": [],
            "needs_background": "light"
          }
        }
      ]
    },
    {
      "cell_type": "code",
      "metadata": {
        "colab": {
          "base_uri": "https://localhost:8080/",
          "height": 310
        },
        "id": "u9Nhh5PPT27G",
        "outputId": "a06e88b8-a303-4f4f-a2aa-3813442a2ec8"
      },
      "source": [
        "#### Tehdään kuvio osakkeen päätöskurssista\n",
        "osake['Close'].plot(title = \"Osakekurssin kehitys\", xlabel = \"Ajankohta\", ylabel = \"Osakkeen arvo, euroa\")"
      ],
      "execution_count": 7,
      "outputs": [
        {
          "output_type": "execute_result",
          "data": {
            "text/plain": [
              "<matplotlib.axes._subplots.AxesSubplot at 0x7f9885e7fe90>"
            ]
          },
          "metadata": {
            "tags": []
          },
          "execution_count": 7
        },
        {
          "output_type": "display_data",
          "data": {
            "image/png": "[encoded data removed]",
            "text/plain": [
              "<Figure size 432x288 with 1 Axes>"
            ]
          },
          "metadata": {
            "tags": [],
            "needs_background": "light"
          }
        }
      ]
    },
    {
      "cell_type": "code",
      "metadata": {
        "colab": {
          "base_uri": "https://localhost:8080/",
          "height": 310
        },
        "id": "cF0c9e1CuA_l",
        "outputId": "042a97ff-ba82-4708-a110-91095104e665"
      },
      "source": [
        "#### Tehdään kuvio osakkeen päätöskurssista vuoden 2020 alusta alkaen\n",
        "osake['Close']['2020-1-1':].plot(title = \"Osakekurssin kehitys vuoden 2020 alusta alkaen\", xlabel = \"Ajankohta\", ylabel = \"Osakkeen arvo, euroa\")"
      ],
      "execution_count": 8,
      "outputs": [
        {
          "output_type": "execute_result",
          "data": {
            "text/plain": [
              "<matplotlib.axes._subplots.AxesSubplot at 0x7f98856328d0>"
            ]
          },
          "metadata": {
            "tags": []
          },
          "execution_count": 8
        },
        {
          "output_type": "display_data",
          "data": {
            "image/png": "[encoded data removed]",
            "text/plain": [
              "<Figure size 432x288 with 1 Axes>"
            ]
          },
          "metadata": {
            "tags": [],
            "needs_background": "light"
          }
        }
      ]
    },
    {
      "cell_type": "markdown",
      "metadata": {
        "id": "eUA5qU9omoh1"
      },
      "source": [
        "Lasketaan seuraavaksi päätöskurssien tunnuslukuja."
      ]
    },
    {
      "cell_type": "code",
      "metadata": {
        "colab": {
          "base_uri": "https://localhost:8080/"
        },
        "id": "jXe3SejUmlo9",
        "outputId": "cfd49747-216a-46ae-f074-411e52e195f6"
      },
      "source": [
        "#### Markkinaindeksin päätöskurssin tunnusluvut\n",
        "markkinat['Close'].describe()"
      ],
      "execution_count": 9,
      "outputs": [
        {
          "output_type": "execute_result",
          "data": {
            "text/plain": [
              "count     819.000000\n",
              "mean     4141.740109\n",
              "std       338.045154\n",
              "min      2905.760010\n",
              "25%      3967.510010\n",
              "50%      4112.939941\n",
              "75%      4291.454834\n",
              "max      5117.290039\n",
              "Name: Close, dtype: float64"
            ]
          },
          "metadata": {
            "tags": []
          },
          "execution_count": 9
        }
      ]
    },
    {
      "cell_type": "code",
      "metadata": {
        "colab": {
          "base_uri": "https://localhost:8080/"
        },
        "id": "d_hpLBA4vGYM",
        "outputId": "99634dcc-dc47-4785-a6b9-84a69cca59cf"
      },
      "source": [
        "#### Siistitään edellistä hieman ja lisätään prosenttipisteitä\n",
        "\n",
        "markkinat['Close'].describe(percentiles = [.1,.25,.75,.9])"
      ],
      "execution_count": 10,
      "outputs": [
        {
          "output_type": "execute_result",
          "data": {
            "text/plain": [
              "count     819.000000\n",
              "mean     4141.740109\n",
              "std       338.045154\n",
              "min      2905.760010\n",
              "10%      3809.964014\n",
              "25%      3967.510010\n",
              "50%      4112.939941\n",
              "75%      4291.454834\n",
              "90%      4576.125977\n",
              "max      5117.290039\n",
              "Name: Close, dtype: float64"
            ]
          },
          "metadata": {
            "tags": []
          },
          "execution_count": 10
        }
      ]
    },
    {
      "cell_type": "code",
      "metadata": {
        "colab": {
          "base_uri": "https://localhost:8080/"
        },
        "id": "4MhW9GFgm4RN",
        "outputId": "5f6783de-025e-44e3-ec45-ac6885ba33aa"
      },
      "source": [
        "#### Tehään sama osakkeen arvoille.\n",
        "\n",
        "osake['Close'].describe(percentiles = [.1,.25,.75,.9])"
      ],
      "execution_count": 11,
      "outputs": [
        {
          "output_type": "execute_result",
          "data": {
            "text/plain": [
              "count    824.000000\n",
              "mean      22.109357\n",
              "std       21.248278\n",
              "min        5.120000\n",
              "10%        6.160000\n",
              "25%        8.200000\n",
              "50%       13.325000\n",
              "75%       26.450000\n",
              "90%       52.140001\n",
              "max      103.800003\n",
              "Name: Close, dtype: float64"
            ]
          },
          "metadata": {
            "tags": []
          },
          "execution_count": 11
        }
      ]
    },
    {
      "cell_type": "code",
      "metadata": {
        "colab": {
          "base_uri": "https://localhost:8080/",
          "height": 310
        },
        "id": "oeNRWK6JNIf0",
        "outputId": "22986a67-ac5a-40ac-c833-bdfa2f30101f"
      },
      "source": [
        "# Piirretään samaan kuvaan kuvio osakkeen päätöskursseista vuoden 2020 alusta ja niiden 50:n havainnon liukuvasta keskiarvosta\n",
        "\n",
        "osake['Close']['2020-01-01':].plot(title = \"Osakekurssi ja 50 päivän liukuva keskiarvo\" , ylabel = \"euroa\")\n",
        "osake['Close']['2020-01-01':].rolling(50).mean().plot()"
      ],
      "execution_count": 12,
      "outputs": [
        {
          "output_type": "execute_result",
          "data": {
            "text/plain": [
              "<matplotlib.axes._subplots.AxesSubplot at 0x7f98855b9d10>"
            ]
          },
          "metadata": {
            "tags": []
          },
          "execution_count": 12
        },
        {
          "output_type": "display_data",
          "data": {
            "image/png": "[encoded data removed]",
            "text/plain": [
              "<Figure size 432x288 with 1 Axes>"
            ]
          },
          "metadata": {
            "tags": [],
            "needs_background": "light"
          }
        }
      ]
    },
    {
      "cell_type": "code",
      "metadata": {
        "colab": {
          "base_uri": "https://localhost:8080/",
          "height": 310
        },
        "id": "hdC7cTx5P2K1",
        "outputId": "11d6a08f-d73c-413f-bafc-94906061b5be"
      },
      "source": [
        "# Piirretään samaan kuvaan kuvio osakkeen päätöskursseista sekä niiden 50:n ja 200:n havainnon liukuvasta keskiarvosta\n",
        "\n",
        "osake['Close'].plot(title = \"Osakekurssi sekä 50 ja 200 päivän liukuva keskiarvo\" , ylabel = \"euroa\")\n",
        "osake['Close'].rolling(50).mean().plot(label='50pv')\n",
        "osake['Close'].rolling(200).mean().plot(label='200pv')"
      ],
      "execution_count": 13,
      "outputs": [
        {
          "output_type": "execute_result",
          "data": {
            "text/plain": [
              "<matplotlib.axes._subplots.AxesSubplot at 0x7f98855295d0>"
            ]
          },
          "metadata": {
            "tags": []
          },
          "execution_count": 13
        },
        {
          "output_type": "display_data",
          "data": {
            "image/png": "[encoded data removed]",
            "text/plain": [
              "<Figure size 432x288 with 1 Axes>"
            ]
          },
          "metadata": {
            "tags": [],
            "needs_background": "light"
          }
        }
      ]
    },
    {
      "cell_type": "markdown",
      "metadata": {
        "id": "9UALS-yyRxc4"
      },
      "source": [
        "Mitä voit sanoa tämän perusteella sanoa osakekurssien kehityksestä?\n",
        "\n",
        "Onko kultaista tai kuoleman ristiä näkyvissä ja mitä ne tarkoittavat? Ks. [Investopedia](https://www.investopedia.com/ask/answers/121114/what-difference-between-golden-cross-and-death-cross-pattern.asp)"
      ]
    },
    {
      "cell_type": "markdown",
      "metadata": {
        "id": "5xW7OpWaXUIX"
      },
      "source": [
        "## Lasketaan vielä päivämuutokset."
      ]
    },
    {
      "cell_type": "code",
      "metadata": {
        "id": "gGUneLLzT39q"
      },
      "source": [
        "markkinat['markkinat-paivamuutos%'] = markkinat['Close'].pct_change()\n",
        "osake['osake-paivamuutos%'] = osake['Close'].pct_change()"
      ],
      "execution_count": 14,
      "outputs": []
    },
    {
      "cell_type": "code",
      "metadata": {
        "colab": {
          "base_uri": "https://localhost:8080/",
          "height": 450
        },
        "id": "lCZb-rguX08V",
        "outputId": "ecedcbf0-b177-4aec-e40c-49ad3e7f30cd"
      },
      "source": [
        "muutokset = pd.concat([markkinat['markkinat-paivamuutos%'],osake['osake-paivamuutos%']], axis = 1)\n",
        "muutokset"
      ],
      "execution_count": 15,
      "outputs": [
        {
          "output_type": "execute_result",
          "data": {
            "text/html": [
              "<div>\n",
              "<style scoped>\n",
              "    .dataframe tbody tr th:only-of-type {\n",
              "        vertical-align: middle;\n",
              "    }\n",
              "\n",
              "    .dataframe tbody tr th {\n",
              "        vertical-align: top;\n",
              "    }\n",
              "\n",
              "    .dataframe thead th {\n",
              "        text-align: right;\n",
              "    }\n",
              "</style>\n",
              "<table border=\"1\" class=\"dataframe\">\n",
              "  <thead>\n",
              "    <tr style=\"text-align: right;\">\n",
              "      <th></th>\n",
              "      <th>markkinat-paivamuutos%</th>\n",
              "      <th>osake-paivamuutos%</th>\n",
              "    </tr>\n",
              "    <tr>\n",
              "      <th>Date</th>\n",
              "      <th></th>\n",
              "      <th></th>\n",
              "    </tr>\n",
              "  </thead>\n",
              "  <tbody>\n",
              "    <tr>\n",
              "      <th>2018-01-02</th>\n",
              "      <td>NaN</td>\n",
              "      <td>NaN</td>\n",
              "    </tr>\n",
              "    <tr>\n",
              "      <th>2018-01-03</th>\n",
              "      <td>0.008547</td>\n",
              "      <td>0.034220</td>\n",
              "    </tr>\n",
              "    <tr>\n",
              "      <th>2018-01-04</th>\n",
              "      <td>0.007841</td>\n",
              "      <td>0.102941</td>\n",
              "    </tr>\n",
              "    <tr>\n",
              "      <th>2018-01-05</th>\n",
              "      <td>0.005900</td>\n",
              "      <td>-0.036667</td>\n",
              "    </tr>\n",
              "    <tr>\n",
              "      <th>2018-01-08</th>\n",
              "      <td>0.002954</td>\n",
              "      <td>-0.024222</td>\n",
              "    </tr>\n",
              "    <tr>\n",
              "      <th>...</th>\n",
              "      <td>...</td>\n",
              "      <td>...</td>\n",
              "    </tr>\n",
              "    <tr>\n",
              "      <th>2021-04-12</th>\n",
              "      <td>-0.007264</td>\n",
              "      <td>-0.019960</td>\n",
              "    </tr>\n",
              "    <tr>\n",
              "      <th>2021-04-13</th>\n",
              "      <td>0.004888</td>\n",
              "      <td>0.040733</td>\n",
              "    </tr>\n",
              "    <tr>\n",
              "      <th>2021-04-14</th>\n",
              "      <td>-0.001236</td>\n",
              "      <td>-0.001957</td>\n",
              "    </tr>\n",
              "    <tr>\n",
              "      <th>2021-04-15</th>\n",
              "      <td>0.006649</td>\n",
              "      <td>0.009804</td>\n",
              "    </tr>\n",
              "    <tr>\n",
              "      <th>2021-04-16</th>\n",
              "      <td>0.015912</td>\n",
              "      <td>0.007767</td>\n",
              "    </tr>\n",
              "  </tbody>\n",
              "</table>\n",
              "<p>825 rows × 2 columns</p>\n",
              "</div>"
            ],
            "text/plain": [
              "            markkinat-paivamuutos%  osake-paivamuutos%\n",
              "Date                                                  \n",
              "2018-01-02                     NaN                 NaN\n",
              "2018-01-03                0.008547            0.034220\n",
              "2018-01-04                0.007841            0.102941\n",
              "2018-01-05                0.005900           -0.036667\n",
              "2018-01-08                0.002954           -0.024222\n",
              "...                            ...                 ...\n",
              "2021-04-12               -0.007264           -0.019960\n",
              "2021-04-13                0.004888            0.040733\n",
              "2021-04-14               -0.001236           -0.001957\n",
              "2021-04-15                0.006649            0.009804\n",
              "2021-04-16                0.015912            0.007767\n",
              "\n",
              "[825 rows x 2 columns]"
            ]
          },
          "metadata": {
            "tags": []
          },
          "execution_count": 15
        }
      ]
    },
    {
      "cell_type": "code",
      "metadata": {
        "colab": {
          "base_uri": "https://localhost:8080/"
        },
        "id": "1DnprgjdvCb9",
        "outputId": "6048683e-c0b7-4f3c-9fc1-7b707db6b08f"
      },
      "source": [
        "muutokset.columns"
      ],
      "execution_count": 16,
      "outputs": [
        {
          "output_type": "execute_result",
          "data": {
            "text/plain": [
              "Index(['markkinat-paivamuutos%', 'osake-paivamuutos%'], dtype='object')"
            ]
          },
          "metadata": {
            "tags": []
          },
          "execution_count": 16
        }
      ]
    },
    {
      "cell_type": "code",
      "metadata": {
        "colab": {
          "base_uri": "https://localhost:8080/",
          "height": 450
        },
        "id": "EPHV_3gJtiqU",
        "outputId": "1d270a63-b1a3-43e5-a114-7d43e708f2b3"
      },
      "source": [
        "muutokset.columns = ['markkinat%','osake%']\n",
        "muutokset"
      ],
      "execution_count": 17,
      "outputs": [
        {
          "output_type": "execute_result",
          "data": {
            "text/html": [
              "<div>\n",
              "<style scoped>\n",
              "    .dataframe tbody tr th:only-of-type {\n",
              "        vertical-align: middle;\n",
              "    }\n",
              "\n",
              "    .dataframe tbody tr th {\n",
              "        vertical-align: top;\n",
              "    }\n",
              "\n",
              "    .dataframe thead th {\n",
              "        text-align: right;\n",
              "    }\n",
              "</style>\n",
              "<table border=\"1\" class=\"dataframe\">\n",
              "  <thead>\n",
              "    <tr style=\"text-align: right;\">\n",
              "      <th></th>\n",
              "      <th>markkinat%</th>\n",
              "      <th>osake%</th>\n",
              "    </tr>\n",
              "    <tr>\n",
              "      <th>Date</th>\n",
              "      <th></th>\n",
              "      <th></th>\n",
              "    </tr>\n",
              "  </thead>\n",
              "  <tbody>\n",
              "    <tr>\n",
              "      <th>2018-01-02</th>\n",
              "      <td>NaN</td>\n",
              "      <td>NaN</td>\n",
              "    </tr>\n",
              "    <tr>\n",
              "      <th>2018-01-03</th>\n",
              "      <td>0.008547</td>\n",
              "      <td>0.034220</td>\n",
              "    </tr>\n",
              "    <tr>\n",
              "      <th>2018-01-04</th>\n",
              "      <td>0.007841</td>\n",
              "      <td>0.102941</td>\n",
              "    </tr>\n",
              "    <tr>\n",
              "      <th>2018-01-05</th>\n",
              "      <td>0.005900</td>\n",
              "      <td>-0.036667</td>\n",
              "    </tr>\n",
              "    <tr>\n",
              "      <th>2018-01-08</th>\n",
              "      <td>0.002954</td>\n",
              "      <td>-0.024222</td>\n",
              "    </tr>\n",
              "    <tr>\n",
              "      <th>...</th>\n",
              "      <td>...</td>\n",
              "      <td>...</td>\n",
              "    </tr>\n",
              "    <tr>\n",
              "      <th>2021-04-12</th>\n",
              "      <td>-0.007264</td>\n",
              "      <td>-0.019960</td>\n",
              "    </tr>\n",
              "    <tr>\n",
              "      <th>2021-04-13</th>\n",
              "      <td>0.004888</td>\n",
              "      <td>0.040733</td>\n",
              "    </tr>\n",
              "    <tr>\n",
              "      <th>2021-04-14</th>\n",
              "      <td>-0.001236</td>\n",
              "      <td>-0.001957</td>\n",
              "    </tr>\n",
              "    <tr>\n",
              "      <th>2021-04-15</th>\n",
              "      <td>0.006649</td>\n",
              "      <td>0.009804</td>\n",
              "    </tr>\n",
              "    <tr>\n",
              "      <th>2021-04-16</th>\n",
              "      <td>0.015912</td>\n",
              "      <td>0.007767</td>\n",
              "    </tr>\n",
              "  </tbody>\n",
              "</table>\n",
              "<p>825 rows × 2 columns</p>\n",
              "</div>"
            ],
            "text/plain": [
              "            markkinat%    osake%\n",
              "Date                            \n",
              "2018-01-02         NaN       NaN\n",
              "2018-01-03    0.008547  0.034220\n",
              "2018-01-04    0.007841  0.102941\n",
              "2018-01-05    0.005900 -0.036667\n",
              "2018-01-08    0.002954 -0.024222\n",
              "...                ...       ...\n",
              "2021-04-12   -0.007264 -0.019960\n",
              "2021-04-13    0.004888  0.040733\n",
              "2021-04-14   -0.001236 -0.001957\n",
              "2021-04-15    0.006649  0.009804\n",
              "2021-04-16    0.015912  0.007767\n",
              "\n",
              "[825 rows x 2 columns]"
            ]
          },
          "metadata": {
            "tags": []
          },
          "execution_count": 17
        }
      ]
    },
    {
      "cell_type": "markdown",
      "metadata": {
        "id": "b6PUP4qzAvHq"
      },
      "source": [
        "Tärkeä osa laskelmissa on myös luotettavuuden arviointi. Eri menetelmiä verrataan keskenään vertaamalla niiden luotettavuutta. \n",
        "\n",
        "Yksi tällainen käsite on mean absolute deviation."
      ]
    },
    {
      "cell_type": "code",
      "metadata": {
        "colab": {
          "base_uri": "https://localhost:8080/"
        },
        "id": "VTOaFkpDAuE3",
        "outputId": "c4a3cc16-8aa5-4884-d458-e0c5a7926200"
      },
      "source": [
        "#### Lasketaan muutosprosenteille poikkeamien keskiarvo\n",
        "\n",
        "muutokset.mad()"
      ],
      "execution_count": 18,
      "outputs": [
        {
          "output_type": "execute_result",
          "data": {
            "text/plain": [
              "markkinat%    0.008689\n",
              "osake%        0.018404\n",
              "dtype: float64"
            ]
          },
          "metadata": {
            "tags": []
          },
          "execution_count": 18
        }
      ]
    },
    {
      "cell_type": "markdown",
      "metadata": {
        "id": "NnjJ4EtsCjnU"
      },
      "source": [
        "Piirretään vielä peräkkäisiä päivittäisiä prosenttimuutoksia. Ne tehdään pylväskaaviolla."
      ]
    },
    {
      "cell_type": "code",
      "metadata": {
        "colab": {
          "base_uri": "https://localhost:8080/",
          "height": 371
        },
        "id": "8HGtnnItCw0R",
        "outputId": "667305c7-96cb-4449-ce7f-99d415021aca"
      },
      "source": [
        "### Piirretään peräkkäiset muutokset viimeisestä kymmenestä havainnosta lähtien.\n",
        "\n",
        "muutokset[-10:].plot.bar(rot=45, ylabel='prosenttia', xlabel='Tarkasteluaika', title='Markkinaindeksin ja osakkeen muutokset')"
      ],
      "execution_count": 38,
      "outputs": [
        {
          "output_type": "execute_result",
          "data": {
            "text/plain": [
              "<matplotlib.axes._subplots.AxesSubplot at 0x7f9876aa5950>"
            ]
          },
          "metadata": {
            "tags": []
          },
          "execution_count": 38
        },
        {
          "output_type": "display_data",
          "data": {
            "image/png": "[encoded data removed]",
            "text/plain": [
              "<Figure size 432x288 with 1 Axes>"
            ]
          },
          "metadata": {
            "tags": []
          }
        }
      ]
    },
    {
      "cell_type": "markdown",
      "metadata": {
        "id": "bPl67BbZYuxe"
      },
      "source": [
        "### Lineaarinen riippuvuus\n",
        "\n",
        "Tarkastellaan päivämuutosten lineaarista riippuvuutta."
      ]
    },
    {
      "cell_type": "code",
      "metadata": {
        "id": "1PauxYHCX3FM"
      },
      "source": [
        "x_markkinat = muutokset['markkinat%']\n",
        "y_osake = muutokset['osake%']"
      ],
      "execution_count": 19,
      "outputs": []
    },
    {
      "cell_type": "code",
      "metadata": {
        "id": "V3yKwuYZZE-V"
      },
      "source": [
        "### Tuodaan ensin tarvittavat kirjastot\n",
        "%matplotlib inline\n",
        "import matplotlib.pyplot as plt\n",
        "plt.style.use('seaborn-whitegrid')"
      ],
      "execution_count": 20,
      "outputs": []
    },
    {
      "cell_type": "code",
      "metadata": {
        "colab": {
          "base_uri": "https://localhost:8080/",
          "height": 308
        },
        "id": "nIkloPUqYJ8c",
        "outputId": "3ea5b1da-6cef-4d5d-9f72-4ae005a6eda1"
      },
      "source": [
        "plt.plot(x_markkinat, y_osake, 'o', color = 'green');\n",
        "plt.title(\"Markkinaindeksin ja osakkeen päivämuutosten hajonta\")\n",
        "plt.xlabel(\"markkinaindeksin muutos\")\n",
        "plt.ylabel(\"osakkeen muutos\")"
      ],
      "execution_count": 21,
      "outputs": [
        {
          "output_type": "execute_result",
          "data": {
            "text/plain": [
              "Text(0, 0.5, 'osakkeen muutos')"
            ]
          },
          "metadata": {
            "tags": []
          },
          "execution_count": 21
        },
        {
          "output_type": "display_data",
          "data": {
            "image/png": "[encoded data removed]",
            "text/plain": [
              "<Figure size 432x288 with 1 Axes>"
            ]
          },
          "metadata": {
            "tags": []
          }
        }
      ]
    },
    {
      "cell_type": "markdown",
      "metadata": {
        "id": "9NxapYPjyJeF"
      },
      "source": [
        "## Normaalijakautuneisuus\n",
        "\n",
        "Tarkistetaan seuraavaksi normaalijakautuneisuus.\n",
        "\n",
        "Ensin tarvitaan taas tueksi Pythonin kirjastoja."
      ]
    },
    {
      "cell_type": "code",
      "metadata": {
        "id": "ThzC6tFGYjml"
      },
      "source": [
        "#### Tuodaan tarvittava kirjasto ja annetaan sille lempiniim stats\n",
        "import scipy.stats as stats"
      ],
      "execution_count": 22,
      "outputs": []
    },
    {
      "cell_type": "markdown",
      "metadata": {
        "id": "zUJGnRlTy8AX"
      },
      "source": [
        "Tarkistetaan osakkeen normaalijakautuneisuus."
      ]
    },
    {
      "cell_type": "code",
      "metadata": {
        "colab": {
          "base_uri": "https://localhost:8080/",
          "height": 291
        },
        "id": "4QQw18D7yvpM",
        "outputId": "2a7de301-bed1-43c7-950a-74ad3f201a38"
      },
      "source": [
        "#### Osakkeen normaalijakautuneisuus, käyttäen q-q-plot-kuviota\n",
        "stats.probplot(y_osake, dist=\"norm\", plot = plt)\n",
        "plt.show()"
      ],
      "execution_count": 23,
      "outputs": [
        {
          "output_type": "display_data",
          "data": {
            "image/png": "[encoded data removed]",
            "text/plain": [
              "<Figure size 432x288 with 1 Axes>"
            ]
          },
          "metadata": {
            "tags": []
          }
        }
      ]
    },
    {
      "cell_type": "code",
      "metadata": {
        "id": "ZGQaaIBa0QU3",
        "colab": {
          "base_uri": "https://localhost:8080/",
          "height": 291
        },
        "outputId": "c73d8b83-d0ff-4cda-8fb7-ee49068b9676"
      },
      "source": [
        "#### Markkinoiden normaalijakautuneisuus, käyttäen q-q-plot-kuviota\n",
        "stats.probplot(x_markkinat, dist=\"norm\", plot = plt)\n",
        "plt.show()"
      ],
      "execution_count": 24,
      "outputs": [
        {
          "output_type": "display_data",
          "data": {
            "image/png": "[encoded data removed]",
            "text/plain": [
              "<Figure size 432x288 with 1 Axes>"
            ]
          },
          "metadata": {
            "tags": []
          }
        }
      ]
    },
    {
      "cell_type": "markdown",
      "metadata": {
        "id": "tMqeKgtE2gjY"
      },
      "source": [
        "## Multikolineaarisuus\n",
        "\n",
        "Tarkistetaan seuraavaksi multikolineearisuus."
      ]
    },
    {
      "cell_type": "code",
      "metadata": {
        "colab": {
          "base_uri": "https://localhost:8080/"
        },
        "id": "NUVbOlLu24J4",
        "outputId": "14577730-b5de-49c1-fb0b-a7481a8b4b71"
      },
      "source": [
        "x_markkinat"
      ],
      "execution_count": 25,
      "outputs": [
        {
          "output_type": "execute_result",
          "data": {
            "text/plain": [
              "Date\n",
              "2018-01-02         NaN\n",
              "2018-01-03    0.008547\n",
              "2018-01-04    0.007841\n",
              "2018-01-05    0.005900\n",
              "2018-01-08    0.002954\n",
              "                ...   \n",
              "2021-04-12   -0.007264\n",
              "2021-04-13    0.004888\n",
              "2021-04-14   -0.001236\n",
              "2021-04-15    0.006649\n",
              "2021-04-16    0.015912\n",
              "Name: markkinat%, Length: 825, dtype: float64"
            ]
          },
          "metadata": {
            "tags": []
          },
          "execution_count": 25
        }
      ]
    },
    {
      "cell_type": "code",
      "metadata": {
        "id": "t_4bwT5L0U_P",
        "colab": {
          "base_uri": "https://localhost:8080/"
        },
        "outputId": "474ed701-f6ba-4ccc-c4a4-808dfaf8302f"
      },
      "source": [
        "y_osake"
      ],
      "execution_count": 26,
      "outputs": [
        {
          "output_type": "execute_result",
          "data": {
            "text/plain": [
              "Date\n",
              "2018-01-02         NaN\n",
              "2018-01-03    0.034220\n",
              "2018-01-04    0.102941\n",
              "2018-01-05   -0.036667\n",
              "2018-01-08   -0.024222\n",
              "                ...   \n",
              "2021-04-12   -0.019960\n",
              "2021-04-13    0.040733\n",
              "2021-04-14   -0.001957\n",
              "2021-04-15    0.009804\n",
              "2021-04-16    0.007767\n",
              "Name: osake%, Length: 825, dtype: float64"
            ]
          },
          "metadata": {
            "tags": []
          },
          "execution_count": 26
        }
      ]
    },
    {
      "cell_type": "code",
      "metadata": {
        "id": "u8yx07f43Ejn"
      },
      "source": [
        "#### Luetaan arvot tietokehykseen\n",
        "\n",
        "df_mkl = pd.concat([x_markkinat,y_osake], axis=1)\n",
        "\n",
        "df_mkl.columns = ['Markkinat','Osake']"
      ],
      "execution_count": 27,
      "outputs": []
    },
    {
      "cell_type": "code",
      "metadata": {
        "colab": {
          "base_uri": "https://localhost:8080/",
          "height": 450
        },
        "id": "XO321GGJ3jDw",
        "outputId": "ea4b4a2d-ac6a-46af-cd0b-ac821b1ba788"
      },
      "source": [
        "df_mkl"
      ],
      "execution_count": 28,
      "outputs": [
        {
          "output_type": "execute_result",
          "data": {
            "text/html": [
              "<div>\n",
              "<style scoped>\n",
              "    .dataframe tbody tr th:only-of-type {\n",
              "        vertical-align: middle;\n",
              "    }\n",
              "\n",
              "    .dataframe tbody tr th {\n",
              "        vertical-align: top;\n",
              "    }\n",
              "\n",
              "    .dataframe thead th {\n",
              "        text-align: right;\n",
              "    }\n",
              "</style>\n",
              "<table border=\"1\" class=\"dataframe\">\n",
              "  <thead>\n",
              "    <tr style=\"text-align: right;\">\n",
              "      <th></th>\n",
              "      <th>Markkinat</th>\n",
              "      <th>Osake</th>\n",
              "    </tr>\n",
              "    <tr>\n",
              "      <th>Date</th>\n",
              "      <th></th>\n",
              "      <th></th>\n",
              "    </tr>\n",
              "  </thead>\n",
              "  <tbody>\n",
              "    <tr>\n",
              "      <th>2018-01-02</th>\n",
              "      <td>NaN</td>\n",
              "      <td>NaN</td>\n",
              "    </tr>\n",
              "    <tr>\n",
              "      <th>2018-01-03</th>\n",
              "      <td>0.008547</td>\n",
              "      <td>0.034220</td>\n",
              "    </tr>\n",
              "    <tr>\n",
              "      <th>2018-01-04</th>\n",
              "      <td>0.007841</td>\n",
              "      <td>0.102941</td>\n",
              "    </tr>\n",
              "    <tr>\n",
              "      <th>2018-01-05</th>\n",
              "      <td>0.005900</td>\n",
              "      <td>-0.036667</td>\n",
              "    </tr>\n",
              "    <tr>\n",
              "      <th>2018-01-08</th>\n",
              "      <td>0.002954</td>\n",
              "      <td>-0.024222</td>\n",
              "    </tr>\n",
              "    <tr>\n",
              "      <th>...</th>\n",
              "      <td>...</td>\n",
              "      <td>...</td>\n",
              "    </tr>\n",
              "    <tr>\n",
              "      <th>2021-04-12</th>\n",
              "      <td>-0.007264</td>\n",
              "      <td>-0.019960</td>\n",
              "    </tr>\n",
              "    <tr>\n",
              "      <th>2021-04-13</th>\n",
              "      <td>0.004888</td>\n",
              "      <td>0.040733</td>\n",
              "    </tr>\n",
              "    <tr>\n",
              "      <th>2021-04-14</th>\n",
              "      <td>-0.001236</td>\n",
              "      <td>-0.001957</td>\n",
              "    </tr>\n",
              "    <tr>\n",
              "      <th>2021-04-15</th>\n",
              "      <td>0.006649</td>\n",
              "      <td>0.009804</td>\n",
              "    </tr>\n",
              "    <tr>\n",
              "      <th>2021-04-16</th>\n",
              "      <td>0.015912</td>\n",
              "      <td>0.007767</td>\n",
              "    </tr>\n",
              "  </tbody>\n",
              "</table>\n",
              "<p>825 rows × 2 columns</p>\n",
              "</div>"
            ],
            "text/plain": [
              "            Markkinat     Osake\n",
              "Date                           \n",
              "2018-01-02        NaN       NaN\n",
              "2018-01-03   0.008547  0.034220\n",
              "2018-01-04   0.007841  0.102941\n",
              "2018-01-05   0.005900 -0.036667\n",
              "2018-01-08   0.002954 -0.024222\n",
              "...               ...       ...\n",
              "2021-04-12  -0.007264 -0.019960\n",
              "2021-04-13   0.004888  0.040733\n",
              "2021-04-14  -0.001236 -0.001957\n",
              "2021-04-15   0.006649  0.009804\n",
              "2021-04-16   0.015912  0.007767\n",
              "\n",
              "[825 rows x 2 columns]"
            ]
          },
          "metadata": {
            "tags": []
          },
          "execution_count": 28
        }
      ]
    },
    {
      "cell_type": "code",
      "metadata": {
        "id": "-oZxK5lb3l5_"
      },
      "source": [
        "#### Tehdään korrelaatiomatriisi\n",
        "\n",
        "corr_mkl = df_mkl.corr()"
      ],
      "execution_count": 29,
      "outputs": []
    },
    {
      "cell_type": "code",
      "metadata": {
        "colab": {
          "base_uri": "https://localhost:8080/",
          "height": 82
        },
        "id": "8SpRaYbn3wCn",
        "outputId": "ccae6d05-740d-45fd-cd1b-6f5df069cabc"
      },
      "source": [
        "#### Piirretään korrelaatiomatriisi\n",
        "\n",
        "corr_mkl.style.background_gradient(cmap='coolwarm')"
      ],
      "execution_count": 30,
      "outputs": [
        {
          "output_type": "execute_result",
          "data": {
            "text/html": [
              "<style  type=\"text/css\" >\n",
              "#T_810f5bca_9fa8_11eb_8658_0242ac1c0002row0_col0,#T_810f5bca_9fa8_11eb_8658_0242ac1c0002row1_col1{\n",
              "            background-color:  #b40426;\n",
              "            color:  #f1f1f1;\n",
              "        }#T_810f5bca_9fa8_11eb_8658_0242ac1c0002row0_col1,#T_810f5bca_9fa8_11eb_8658_0242ac1c0002row1_col0{\n",
              "            background-color:  #3b4cc0;\n",
              "            color:  #f1f1f1;\n",
              "        }</style><table id=\"T_810f5bca_9fa8_11eb_8658_0242ac1c0002\" ><thead>    <tr>        <th class=\"blank level0\" ></th>        <th class=\"col_heading level0 col0\" >Markkinat</th>        <th class=\"col_heading level0 col1\" >Osake</th>    </tr></thead><tbody>\n",
              "                <tr>\n",
              "                        <th id=\"T_810f5bca_9fa8_11eb_8658_0242ac1c0002level0_row0\" class=\"row_heading level0 row0\" >Markkinat</th>\n",
              "                        <td id=\"T_810f5bca_9fa8_11eb_8658_0242ac1c0002row0_col0\" class=\"data row0 col0\" >1.000000</td>\n",
              "                        <td id=\"T_810f5bca_9fa8_11eb_8658_0242ac1c0002row0_col1\" class=\"data row0 col1\" >0.292253</td>\n",
              "            </tr>\n",
              "            <tr>\n",
              "                        <th id=\"T_810f5bca_9fa8_11eb_8658_0242ac1c0002level0_row1\" class=\"row_heading level0 row1\" >Osake</th>\n",
              "                        <td id=\"T_810f5bca_9fa8_11eb_8658_0242ac1c0002row1_col0\" class=\"data row1 col0\" >0.292253</td>\n",
              "                        <td id=\"T_810f5bca_9fa8_11eb_8658_0242ac1c0002row1_col1\" class=\"data row1 col1\" >1.000000</td>\n",
              "            </tr>\n",
              "    </tbody></table>"
            ],
            "text/plain": [
              "<pandas.io.formats.style.Styler at 0x7f98771decd0>"
            ]
          },
          "metadata": {
            "tags": []
          },
          "execution_count": 30
        }
      ]
    },
    {
      "cell_type": "markdown",
      "metadata": {
        "id": "JPh-VXLU38o5"
      },
      "source": [
        "Mitä voit tämän perusteella sanoa markkinaindeksin ja osakkeen korrelaatiosta?"
      ]
    },
    {
      "cell_type": "markdown",
      "metadata": {
        "id": "hvyWkco1XR7z"
      },
      "source": [
        "Liukuva korrelaatio kertoo, miten kahden osakesarjan muutosprosentit korreloivat eri aikoina."
      ]
    },
    {
      "cell_type": "code",
      "metadata": {
        "id": "CE90csx1345o",
        "colab": {
          "base_uri": "https://localhost:8080/",
          "height": 303
        },
        "outputId": "164fc895-d5b8-41bb-a9d0-917679506704"
      },
      "source": [
        "#### Lasketaan ja piirretään vielä osakkeen ja markkinoiden liukuva korrelaatio\n",
        "\n",
        "liukuva_korrelaatio = df_mkl['Osake'].rolling(90,min_periods=30).corr(df_mkl['Markkinat'])\n",
        "\n",
        "liukuva_korrelaatio['2020-01-01':].plot(title = \"Markkinoiden ja osakkeen liukuva korrelaatio vuoden 2020 alusta\", ylabel = \"korrelaatiokerroin\")"
      ],
      "execution_count": 31,
      "outputs": [
        {
          "output_type": "execute_result",
          "data": {
            "text/plain": [
              "<matplotlib.axes._subplots.AxesSubplot at 0x7f9876e3b9d0>"
            ]
          },
          "metadata": {
            "tags": []
          },
          "execution_count": 31
        },
        {
          "output_type": "display_data",
          "data": {
            "image/png": "[encoded data removed]",
            "text/plain": [
              "<Figure size 432x288 with 1 Axes>"
            ]
          },
          "metadata": {
            "tags": []
          }
        }
      ]
    },
    {
      "cell_type": "markdown",
      "metadata": {
        "id": "iZlIghyUaoVq"
      },
      "source": [
        "Lasketaan ja piirretään vielä osakkeen ja markkinaindeksin volatiliteetit. \n",
        "\n",
        "Kannattaa huomata, että laskentakaavassa volatiliteetti annualisoidaan."
      ]
    },
    {
      "cell_type": "code",
      "metadata": {
        "colab": {
          "base_uri": "https://localhost:8080/",
          "height": 311
        },
        "id": "WZGi_nZ8Z4BY",
        "outputId": "ea59f5b0-4941-4177-cc9a-b0e8a93a0626"
      },
      "source": [
        "#### Lasketaan osakkeen volatiliteetti ja piirretään se vuoden 2020 alusta alkaen\n",
        "\n",
        "(df_mkl['Osake'].rolling(252).std()*(252**0.5))\n",
        "\n",
        "(df_mkl['Osake'].rolling(252).std()*(252**0.5))['2020-01-01':].plot(title = \"Osakkeen liukuva volatiliteetti\", ylabel = \"prosenttia\")"
      ],
      "execution_count": 32,
      "outputs": [
        {
          "output_type": "execute_result",
          "data": {
            "text/plain": [
              "<matplotlib.axes._subplots.AxesSubplot at 0x7f9876bd6410>"
            ]
          },
          "metadata": {
            "tags": []
          },
          "execution_count": 32
        },
        {
          "output_type": "display_data",
          "data": {
            "image/png": "[encoded data removed]",
            "text/plain": [
              "<Figure size 432x288 with 1 Axes>"
            ]
          },
          "metadata": {
            "tags": []
          }
        }
      ]
    },
    {
      "cell_type": "code",
      "metadata": {
        "colab": {
          "base_uri": "https://localhost:8080/",
          "height": 303
        },
        "id": "5XKVFUIFfTda",
        "outputId": "e68d5e43-d11e-458a-c289-8de286766f21"
      },
      "source": [
        "#### Lasketaan markkinoiden volatiliteetti ja piirretään se vuoden 2020 alusta alkaen\n",
        "\n",
        "(df_mkl['Markkinat'].rolling(252).std()*(252**0.5))\n",
        "\n",
        "(df_mkl['Markkinat'].rolling(252).std()*(252**0.5))['2020-01-01':].plot(title = \"Markkinaindeksin liukuva volatiliteetti\", ylabel = \"prosenttia\")"
      ],
      "execution_count": 33,
      "outputs": [
        {
          "output_type": "execute_result",
          "data": {
            "text/plain": [
              "<matplotlib.axes._subplots.AxesSubplot at 0x7f9876b47210>"
            ]
          },
          "metadata": {
            "tags": []
          },
          "execution_count": 33
        },
        {
          "output_type": "display_data",
          "data": {
            "image/png": "[encoded data removed]",
            "text/plain": [
              "<Figure size 432x288 with 1 Axes>"
            ]
          },
          "metadata": {
            "tags": []
          }
        }
      ]
    }
  ]
}